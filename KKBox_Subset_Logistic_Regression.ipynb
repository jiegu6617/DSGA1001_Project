{
 "cells": [
  {
   "cell_type": "code",
   "execution_count": 20,
   "metadata": {},
   "outputs": [],
   "source": [
    "import pandas as pd\n",
    "import numpy as np\n",
    "import matplotlib.pyplot as plt\n",
    "from sklearn.utils import resample\n",
    "from sklearn.model_selection import train_test_split\n",
    "from sklearn.ensemble import RandomForestClassifier\n",
    "from sklearn.metrics import log_loss,normalized_mutual_info_score,roc_auc_score\n",
    "from sklearn.linear_model import LogisticRegression\n",
    "from sklearn.model_selection import GridSearchCV\n",
    "import seaborn as sns\n",
    "from sklearn import preprocessing\n",
    "from sklearn.linear_model import LogisticRegression\n",
    "import random\n",
    "from sklearn.model_selection import KFold\n",
    "from sklearn.model_selection import train_test_split\n",
    "from sklearn.decomposition import PCA\n",
    "from sklearn import svm\n",
    "from sklearn.model_selection import PredefinedSplit\n",
    "from sklearn.metrics import f1_score\n",
    "from sklearn.metrics import make_scorer, fbeta_score"
   ]
  },
  {
   "cell_type": "code",
   "execution_count": 28,
   "metadata": {},
   "outputs": [],
   "source": [
    "#Load Data\n",
    "data_jan=pd.read_csv('Jan_data.csv',index_col=0)\n",
    "data_feb=pd.read_csv('Feb_data.csv',index_col=0)"
   ]
  },
  {
   "cell_type": "code",
   "execution_count": 29,
   "metadata": {},
   "outputs": [],
   "source": [
    "#Standard Scalar\n",
    "def scaling(df):\n",
    "    df = df.reindex(columns=(list([a for a in df.columns if a != 'is_churn']) +['is_churn'] ))\n",
    "    scaler = preprocessing.StandardScaler()\n",
    "    scaled_data = scaler.fit_transform(df.iloc[:,:-1])\n",
    "    scaled_data = pd.DataFrame(scaled_data,columns=df.columns[:-1])\n",
    "    scaled_data['is_churn']=df.is_churn.values.astype(int)\n",
    "    scaled_data=scaled_data.set_index([df.index])\n",
    "    return scaled_data\n",
    "\n",
    "\n",
    "scaled_data_jan=scaling(data_jan)\n",
    "scaled_data_feb=scaling(data_feb)\n",
    "\n",
    "y=scaled_data_jan.is_churn\n",
    "X=scaled_data_jan.drop(columns=['is_churn'])\n",
    "y_test=scaled_data_feb.is_churn\n",
    "X_test=scaled_data_feb.drop(columns='is_churn')"
   ]
  },
  {
   "cell_type": "markdown",
   "metadata": {},
   "source": [
    "# Remove some 'bad' features and features hvaving high collinearity"
   ]
  },
  {
   "cell_type": "code",
   "execution_count": 30,
   "metadata": {},
   "outputs": [],
   "source": [
    "bad_features = ['secs_std_14d',\n",
    " 'percent_whole_song_60d',\n",
    " '30d_percent_25',\n",
    " 'total_secs_7d',\n",
    " 'percentage_length_30d',\n",
    " 'unq_mean_14d',\n",
    " 'percent_whole_song_30d',\n",
    " '3060_uniq_diff',\n",
    " 'secs_std_7d',\n",
    " 'percent_unique_7d',\n",
    " 'percentage_length_14d',\n",
    " 'percent_whole_song_14d',\n",
    " 'unq_mean_7d',\n",
    " 'percentage_length_7d',\n",
    " '3060_listen_days_diff',\n",
    " 'percent_whole_song_7d',\n",
    " 'listening_days_60d',\n",
    " 'listening_days_30d',\n",
    " '1430_listen_diff',\n",
    " 'listening_days_14d',\n",
    " 'last_day',\n",
    " 'listening_days_7d',\n",
    " '90_payment_plan_days_sum',\n",
    " '90_count_transaction',\n",
    " '90_payment_plan_days_mean',\n",
    " '30_is_cancel_sum',\n",
    " '90_is_cancel_sum',\n",
    " 'quick_churn',\n",
    " 'registered_via_13']\n",
    "X = X.drop(columns= bad_features)\n",
    "X_test = X_test.drop(columns= bad_features)"
   ]
  },
  {
   "cell_type": "code",
   "execution_count": 5,
   "metadata": {},
   "outputs": [
    {
     "data": {
      "text/plain": [
       "percent_whole_song          percentage_length             0.993321\n",
       "percentage_length           percent_whole_song            0.993321\n",
       "90_plan_list_price_mean     90_actual_amount_paid_mean    0.984868\n",
       "90_actual_amount_paid_mean  90_plan_list_price_mean       0.984868\n",
       "percentage_length           percent_lower25_song          0.982554\n",
       "percent_lower25_song        percentage_length             0.982554\n",
       "365_count_transaction       365_payment_plan_days_sum     0.982435\n",
       "365_payment_plan_days_sum   365_count_transaction         0.982435\n",
       "180_payment_plan_days_sum   180_count_transaction         0.967153\n",
       "180_count_transaction       180_payment_plan_days_sum     0.967153\n",
       "total_secs_30d              total_secs_60d                0.964327\n",
       "total_secs_60d              total_secs_30d                0.964327\n",
       "registered_via_7            if_method_id_3                0.964300\n",
       "if_method_id_3              registered_via_7              0.964300\n",
       "30_payment_plan_days_sum    30_count_transaction          0.961202\n",
       "30_count_transaction        30_payment_plan_days_sum      0.961202\n",
       "total_secs_14d              total_secs_30d                0.956209\n",
       "total_secs_30d              total_secs_14d                0.956209\n",
       "percent_whole_song          percent_lower25_song          0.955645\n",
       "percent_lower25_song        percent_whole_song            0.955645\n",
       "unq_mean_60d                unq_mean_30d                  0.952585\n",
       "unq_mean_30d                unq_mean_60d                  0.952585\n",
       "num_75_sum                  num_50_sum                    0.933817\n",
       "num_50_sum                  num_75_sum                    0.933817\n",
       "60_payment_plan_days_sum    60_count_transaction          0.932389\n",
       "60_count_transaction        60_payment_plan_days_sum      0.932389\n",
       "total_secs_sum              std_sec                       0.922879\n",
       "std_sec                     total_secs_sum                0.922879\n",
       "total_secs_14d              total_secs_60d                0.905700\n",
       "total_secs_60d              total_secs_14d                0.905700\n",
       "secs_std_60d                secs_std_30d                  0.898503\n",
       "secs_std_30d                secs_std_60d                  0.898503\n",
       "num_unq_sum                 num_100_sum                   0.896070\n",
       "num_100_sum                 num_unq_sum                   0.896070\n",
       "90_spend_per_day            90_actual_amount_paid_mean    0.878564\n",
       "90_actual_amount_paid_mean  90_spend_per_day              0.878564\n",
       "90_spend_per_day            90_plan_list_price_mean       0.858932\n",
       "90_plan_list_price_mean     90_spend_per_day              0.858932\n",
       "percent_unique_30d          percent_unique_60d            0.808559\n",
       "percent_unique_60d          percent_unique_30d            0.808559\n",
       "percentage_length           percentage_length_60d         0.804792\n",
       "percentage_length_60d       percentage_length             0.804792\n",
       "                            percent_whole_song            0.800088\n",
       "percent_whole_song          percentage_length_60d         0.800088\n",
       "percentage_length_60d       percent_lower25_song          0.789674\n",
       "percent_lower25_song        percentage_length_60d         0.789674\n",
       "dtype: float64"
      ]
     },
     "execution_count": 5,
     "metadata": {},
     "output_type": "execute_result"
    }
   ],
   "source": [
    "#Check correlation\n",
    "c = X.corr().abs()\n",
    "s = c.unstack()\n",
    "so = s.sort_values(kind=\"quicksort\",ascending=False)\n",
    "so[so!=1].head(46)"
   ]
  },
  {
   "cell_type": "code",
   "execution_count": 31,
   "metadata": {},
   "outputs": [],
   "source": [
    "#Transpose function\n",
    "def hlper_fnc(test_list): \n",
    "    # declare empty list \n",
    "    sub1 = [] \n",
    "    sub2 = [] \n",
    "  \n",
    "    res = (sub1, sub2) \n",
    "    for sub in test_list: \n",
    "        # add element in the last of the list \n",
    "        sub1.append(sub[0]) \n",
    "        sub2.append(sub[1]) \n",
    "  \n",
    "    return res \n",
    "\n",
    "#Drop high colinearity\n",
    "res = hlper_fnc(so[so!=1].head(46).index.tolist())\n",
    "drop = res[0][0::2]\n",
    "X = X.drop(columns= drop)\n",
    "X_test = X_test.drop(columns= drop)"
   ]
  },
  {
   "cell_type": "code",
   "execution_count": 32,
   "metadata": {},
   "outputs": [],
   "source": [
    "#Take test and validation set\n",
    "test_x, X_Validation, test_y, y_Validation = train_test_split(X_test, y_test, test_size=0.3)"
   ]
  },
  {
   "cell_type": "markdown",
   "metadata": {},
   "source": [
    "# Leaning Curve"
   ]
  },
  {
   "cell_type": "code",
   "execution_count": 9,
   "metadata": {},
   "outputs": [],
   "source": [
    "#Resample multiple times for learning curve\n",
    "def logloss_resampling(train,train_y, test, test_y,nruns, sampsize):\n",
    "    \n",
    "    loglosses = []\n",
    "    \n",
    "    #Logistic regression\n",
    "    my_model = LogisticRegression(solver='lbfgs',max_iter=1000)\n",
    "    #fit the models and compute logloss on test data\n",
    "    for i in range(nruns):\n",
    "        index_list = np.random.randint(0, len(train), size=sampsize)\n",
    "        train_samp = train.iloc[index_list]\n",
    "        y_sample = train_y.iloc[index_list]\n",
    "        my_model.fit(train_samp,y_sample)\n",
    "        loglosses.append(log_loss(test_y, my_model.predict_proba(test)[:, 1]))\n",
    "       \n",
    "    #Returns the mean(logloss) and SE(logloss)\n",
    "    return np.mean(loglosses),np.std(loglosses,ddof = 1)/np.sqrt(nruns)"
   ]
  },
  {
   "cell_type": "code",
   "execution_count": 25,
   "metadata": {},
   "outputs": [
    {
     "name": "stdout",
     "output_type": "stream",
     "text": [
      "For sample size 1024, The mean logloss is 0.3378351909473393.\n",
      "For sample size 2048, The mean logloss is 0.32269870079101853.\n",
      "For sample size 4096, The mean logloss is 0.3169429450366288.\n",
      "For sample size 8192, The mean logloss is 0.31429886867233436.\n",
      "For sample size 16384, The mean logloss is 0.31292414353345005.\n",
      "For sample size 32768, The mean logloss is 0.3118872380207388.\n",
      "For sample size 65536, The mean logloss is 0.31139998503300215.\n",
      "For sample size 131072, The mean logloss is 0.31133855846695224.\n",
      "For sample size 262144, The mean logloss is 0.31095924657547586.\n"
     ]
    }
   ],
   "source": [
    "linspace = [2**(i) for i in range(10,19)]\n",
    "lg_mean = np.zeros(len(linspace))\n",
    "lg_se = np.zeros(len(linspace))\n",
    "\n",
    "#Run 20 resampling\n",
    "for i,size in enumerate(linspace):\n",
    "    lg_mean[i],lg_se[i]= logloss_resampling(X,y,X_Validation,y_Validation,30, size)\n",
    "    print('For sample size {}, The mean logloss is {}.'.format(size,lg_mean[i]))"
   ]
  },
  {
   "cell_type": "code",
   "execution_count": 26,
   "metadata": {},
   "outputs": [
    {
     "data": {
      "text/plain": [
       "Text(0.5, 1.0, 'Mean Logloss and Confidence Interval For Feature Subset')"
      ]
     },
     "execution_count": 26,
     "metadata": {},
     "output_type": "execute_result"
    },
    {
     "data": {
      "image/png": "[encoded data removed]",
      "text/plain": [
       "<Figure size 576x576 with 1 Axes>"
      ]
     },
     "metadata": {
      "needs_background": "light"
     },
     "output_type": "display_data"
    }
   ],
   "source": [
    "#Make learning curve. plots\n",
    "plt.figure(figsize = (8,8))\n",
    "plt.plot(np.log2(linspace),lg_mean,'r',label = 'lg:mean(Logloss)')\n",
    "plt.plot(np.log2(linspace),lg_mean-2*lg_se,'r+',label = 'lg:mean(Logloss)-2stderr(Logloss)')\n",
    "plt.plot(np.log2(linspace),lg_mean+2*lg_se,'r--',label = 'lg:mean(Logloss)+2stderr(Logloss)')\n",
    "\n",
    "plt.legend()\n",
    "plt.xlabel('Log2_Samplesize')\n",
    "plt.ylabel('Logloss')\n",
    "plt.title('Mean Logloss and Confidence Interval For Feature Subset')"
   ]
  },
  {
   "cell_type": "code",
   "execution_count": 20,
   "metadata": {},
   "outputs": [
    {
     "name": "stdout",
     "output_type": "stream",
     "text": [
      "Fitting 1 folds for each of 40 candidates, totalling 40 fits\n"
     ]
    },
    {
     "name": "stderr",
     "output_type": "stream",
     "text": [
      "[Parallel(n_jobs=-1)]: Using backend LokyBackend with 24 concurrent workers.\n",
      "[Parallel(n_jobs=-1)]: Done  34 out of  40 | elapsed:    1.3s remaining:    0.2s\n",
      "[Parallel(n_jobs=-1)]: Done  40 out of  40 | elapsed:    1.5s finished\n"
     ]
    },
    {
     "data": {
      "text/plain": [
       "GridSearchCV(cv=PredefinedSplit(test_fold=array([-1, -1, ...,  0,  0])),\n",
       "             estimator=LogisticRegression(), n_jobs=-1,\n",
       "             param_grid={'C': [1e-05, 0.0001, 0.001, 0.01, 0.1, 1, 10, 100,\n",
       "                               1000, 10000],\n",
       "                         'class_weight': [None, {0: 0.1, 1: 0.9},\n",
       "                                          {0: 0.2, 1: 0.8}, {0: 0.3, 1: 0.7}],\n",
       "                         'max_iter': [1000], 'penalty': ['l2']},\n",
       "             scoring=make_scorer(fbeta_score, beta=2), verbose=1)"
      ]
     },
     "execution_count": 20,
     "metadata": {},
     "output_type": "execute_result"
    }
   ],
   "source": [
    "#Validation For l2 penalty\n",
    "train_list = random.sample(X.index.values.tolist(),k=65000)\n",
    "train = X.loc[train_list]\n",
    "train_y = y.loc[train_list]\n",
    "\n",
    "#Use PredefinedSplit\n",
    "X_con = np.concatenate((train,X_Validation),axis = 0)\n",
    "y_con = np.concatenate((train_y,y_Validation),axis = 0)\n",
    "split_index = [-1]*len(train_y)+[0]*len(y_Validation)\n",
    "pds = PredefinedSplit(test_fold = split_index)\n",
    "\n",
    "\n",
    "#set up a paramater grid\n",
    "param_grid_lr = {'C':[10**(i) for i in range(-5,5)], 'penalty':['l2'],\n",
    "                 'class_weight':[None,{0:0.1,1:0.9},{0:0.2,1:0.8},{0:0.3,1:0.7}],'max_iter':[1000]}\n",
    "\n",
    "#call the GridSearchCV class, use LogisticRegression and 'F Beta' for scoring\n",
    "f2_score = make_scorer(fbeta_score, beta=2)\n",
    "\n",
    "lr_grid_search_2 = GridSearchCV(LogisticRegression(solver='lbfgs'), \n",
    "                              param_grid_lr, cv = pds, scoring = f2_score,verbose = 1,n_jobs = -1) \n",
    "lr_grid_search_2.fit(X_con, y_con)"
   ]
  },
  {
   "cell_type": "code",
   "execution_count": 21,
   "metadata": {},
   "outputs": [
    {
     "data": {
      "text/plain": [
       "{'mean_fit_time': array([0.32002759, 0.34179592, 0.2236445 , 0.31330657, 0.24638867,\n",
       "        0.35008454, 0.34064436, 0.34062696, 0.45980501, 0.31608009,\n",
       "        0.47936845, 0.44689727, 0.51682186, 0.71919203, 0.49260759,\n",
       "        0.81211615, 0.63816166, 1.0101223 , 1.07321525, 0.63260531,\n",
       "        0.66886091, 1.01893401, 0.60457945, 0.99763584, 0.72359657,\n",
       "        0.608109  , 0.6084621 , 0.66358781, 0.63636422, 0.70809269,\n",
       "        0.72590232, 0.74679756, 0.76979756, 0.73648119, 0.61899304,\n",
       "        0.70192623, 0.77879763, 0.61751223, 0.58157539, 0.60762763]),\n",
       " 'std_fit_time': array([0., 0., 0., 0., 0., 0., 0., 0., 0., 0., 0., 0., 0., 0., 0., 0., 0.,\n",
       "        0., 0., 0., 0., 0., 0., 0., 0., 0., 0., 0., 0., 0., 0., 0., 0., 0.,\n",
       "        0., 0., 0., 0., 0., 0.]),\n",
       " 'mean_score_time': array([0.04878211, 0.05067444, 0.03826404, 0.04193234, 0.03941154,\n",
       "        0.05065084, 0.04659104, 0.04490948, 0.04465818, 0.04744601,\n",
       "        0.04393601, 0.04382849, 0.03535891, 0.05145907, 0.04570365,\n",
       "        0.04922724, 0.04444242, 0.04588747, 0.04490614, 0.03822303,\n",
       "        0.03678393, 0.04185629, 0.03799987, 0.04150414, 0.0474298 ,\n",
       "        0.0403626 , 0.03806281, 0.03854346, 0.03315353, 0.04555202,\n",
       "        0.04789996, 0.03230667, 0.0392251 , 0.0428288 , 0.03846455,\n",
       "        0.03074074, 0.02755809, 0.03788733, 0.02940822, 0.03067756]),\n",
       " 'std_score_time': array([0., 0., 0., 0., 0., 0., 0., 0., 0., 0., 0., 0., 0., 0., 0., 0., 0.,\n",
       "        0., 0., 0., 0., 0., 0., 0., 0., 0., 0., 0., 0., 0., 0., 0., 0., 0.,\n",
       "        0., 0., 0., 0., 0., 0.]),\n",
       " 'param_C': masked_array(data=[1e-05, 1e-05, 1e-05, 1e-05, 0.0001, 0.0001, 0.0001,\n",
       "                    0.0001, 0.001, 0.001, 0.001, 0.001, 0.01, 0.01, 0.01,\n",
       "                    0.01, 0.1, 0.1, 0.1, 0.1, 1, 1, 1, 1, 10, 10, 10, 10,\n",
       "                    100, 100, 100, 100, 1000, 1000, 1000, 1000, 10000,\n",
       "                    10000, 10000, 10000],\n",
       "              mask=[False, False, False, False, False, False, False, False,\n",
       "                    False, False, False, False, False, False, False, False,\n",
       "                    False, False, False, False, False, False, False, False,\n",
       "                    False, False, False, False, False, False, False, False,\n",
       "                    False, False, False, False, False, False, False, False],\n",
       "        fill_value='?',\n",
       "             dtype=object),\n",
       " 'param_class_weight': masked_array(data=[None, {0: 0.1, 1: 0.9}, {0: 0.2, 1: 0.8},\n",
       "                    {0: 0.3, 1: 0.7}, None, {0: 0.1, 1: 0.9},\n",
       "                    {0: 0.2, 1: 0.8}, {0: 0.3, 1: 0.7}, None,\n",
       "                    {0: 0.1, 1: 0.9}, {0: 0.2, 1: 0.8}, {0: 0.3, 1: 0.7},\n",
       "                    None, {0: 0.1, 1: 0.9}, {0: 0.2, 1: 0.8},\n",
       "                    {0: 0.3, 1: 0.7}, None, {0: 0.1, 1: 0.9},\n",
       "                    {0: 0.2, 1: 0.8}, {0: 0.3, 1: 0.7}, None,\n",
       "                    {0: 0.1, 1: 0.9}, {0: 0.2, 1: 0.8}, {0: 0.3, 1: 0.7},\n",
       "                    None, {0: 0.1, 1: 0.9}, {0: 0.2, 1: 0.8},\n",
       "                    {0: 0.3, 1: 0.7}, None, {0: 0.1, 1: 0.9},\n",
       "                    {0: 0.2, 1: 0.8}, {0: 0.3, 1: 0.7}, None,\n",
       "                    {0: 0.1, 1: 0.9}, {0: 0.2, 1: 0.8}, {0: 0.3, 1: 0.7},\n",
       "                    None, {0: 0.1, 1: 0.9}, {0: 0.2, 1: 0.8},\n",
       "                    {0: 0.3, 1: 0.7}],\n",
       "              mask=[False, False, False, False, False, False, False, False,\n",
       "                    False, False, False, False, False, False, False, False,\n",
       "                    False, False, False, False, False, False, False, False,\n",
       "                    False, False, False, False, False, False, False, False,\n",
       "                    False, False, False, False, False, False, False, False],\n",
       "        fill_value='?',\n",
       "             dtype=object),\n",
       " 'param_max_iter': masked_array(data=[1000, 1000, 1000, 1000, 1000, 1000, 1000, 1000, 1000,\n",
       "                    1000, 1000, 1000, 1000, 1000, 1000, 1000, 1000, 1000,\n",
       "                    1000, 1000, 1000, 1000, 1000, 1000, 1000, 1000, 1000,\n",
       "                    1000, 1000, 1000, 1000, 1000, 1000, 1000, 1000, 1000,\n",
       "                    1000, 1000, 1000, 1000],\n",
       "              mask=[False, False, False, False, False, False, False, False,\n",
       "                    False, False, False, False, False, False, False, False,\n",
       "                    False, False, False, False, False, False, False, False,\n",
       "                    False, False, False, False, False, False, False, False,\n",
       "                    False, False, False, False, False, False, False, False],\n",
       "        fill_value='?',\n",
       "             dtype=object),\n",
       " 'param_penalty': masked_array(data=['l2', 'l2', 'l2', 'l2', 'l2', 'l2', 'l2', 'l2', 'l2',\n",
       "                    'l2', 'l2', 'l2', 'l2', 'l2', 'l2', 'l2', 'l2', 'l2',\n",
       "                    'l2', 'l2', 'l2', 'l2', 'l2', 'l2', 'l2', 'l2', 'l2',\n",
       "                    'l2', 'l2', 'l2', 'l2', 'l2', 'l2', 'l2', 'l2', 'l2',\n",
       "                    'l2', 'l2', 'l2', 'l2'],\n",
       "              mask=[False, False, False, False, False, False, False, False,\n",
       "                    False, False, False, False, False, False, False, False,\n",
       "                    False, False, False, False, False, False, False, False,\n",
       "                    False, False, False, False, False, False, False, False,\n",
       "                    False, False, False, False, False, False, False, False],\n",
       "        fill_value='?',\n",
       "             dtype=object),\n",
       " 'params': [{'C': 1e-05,\n",
       "   'class_weight': None,\n",
       "   'max_iter': 1000,\n",
       "   'penalty': 'l2'},\n",
       "  {'C': 1e-05,\n",
       "   'class_weight': {0: 0.1, 1: 0.9},\n",
       "   'max_iter': 1000,\n",
       "   'penalty': 'l2'},\n",
       "  {'C': 1e-05,\n",
       "   'class_weight': {0: 0.2, 1: 0.8},\n",
       "   'max_iter': 1000,\n",
       "   'penalty': 'l2'},\n",
       "  {'C': 1e-05,\n",
       "   'class_weight': {0: 0.3, 1: 0.7},\n",
       "   'max_iter': 1000,\n",
       "   'penalty': 'l2'},\n",
       "  {'C': 0.0001, 'class_weight': None, 'max_iter': 1000, 'penalty': 'l2'},\n",
       "  {'C': 0.0001,\n",
       "   'class_weight': {0: 0.1, 1: 0.9},\n",
       "   'max_iter': 1000,\n",
       "   'penalty': 'l2'},\n",
       "  {'C': 0.0001,\n",
       "   'class_weight': {0: 0.2, 1: 0.8},\n",
       "   'max_iter': 1000,\n",
       "   'penalty': 'l2'},\n",
       "  {'C': 0.0001,\n",
       "   'class_weight': {0: 0.3, 1: 0.7},\n",
       "   'max_iter': 1000,\n",
       "   'penalty': 'l2'},\n",
       "  {'C': 0.001, 'class_weight': None, 'max_iter': 1000, 'penalty': 'l2'},\n",
       "  {'C': 0.001,\n",
       "   'class_weight': {0: 0.1, 1: 0.9},\n",
       "   'max_iter': 1000,\n",
       "   'penalty': 'l2'},\n",
       "  {'C': 0.001,\n",
       "   'class_weight': {0: 0.2, 1: 0.8},\n",
       "   'max_iter': 1000,\n",
       "   'penalty': 'l2'},\n",
       "  {'C': 0.001,\n",
       "   'class_weight': {0: 0.3, 1: 0.7},\n",
       "   'max_iter': 1000,\n",
       "   'penalty': 'l2'},\n",
       "  {'C': 0.01, 'class_weight': None, 'max_iter': 1000, 'penalty': 'l2'},\n",
       "  {'C': 0.01,\n",
       "   'class_weight': {0: 0.1, 1: 0.9},\n",
       "   'max_iter': 1000,\n",
       "   'penalty': 'l2'},\n",
       "  {'C': 0.01,\n",
       "   'class_weight': {0: 0.2, 1: 0.8},\n",
       "   'max_iter': 1000,\n",
       "   'penalty': 'l2'},\n",
       "  {'C': 0.01,\n",
       "   'class_weight': {0: 0.3, 1: 0.7},\n",
       "   'max_iter': 1000,\n",
       "   'penalty': 'l2'},\n",
       "  {'C': 0.1, 'class_weight': None, 'max_iter': 1000, 'penalty': 'l2'},\n",
       "  {'C': 0.1,\n",
       "   'class_weight': {0: 0.1, 1: 0.9},\n",
       "   'max_iter': 1000,\n",
       "   'penalty': 'l2'},\n",
       "  {'C': 0.1,\n",
       "   'class_weight': {0: 0.2, 1: 0.8},\n",
       "   'max_iter': 1000,\n",
       "   'penalty': 'l2'},\n",
       "  {'C': 0.1,\n",
       "   'class_weight': {0: 0.3, 1: 0.7},\n",
       "   'max_iter': 1000,\n",
       "   'penalty': 'l2'},\n",
       "  {'C': 1, 'class_weight': None, 'max_iter': 1000, 'penalty': 'l2'},\n",
       "  {'C': 1,\n",
       "   'class_weight': {0: 0.1, 1: 0.9},\n",
       "   'max_iter': 1000,\n",
       "   'penalty': 'l2'},\n",
       "  {'C': 1,\n",
       "   'class_weight': {0: 0.2, 1: 0.8},\n",
       "   'max_iter': 1000,\n",
       "   'penalty': 'l2'},\n",
       "  {'C': 1,\n",
       "   'class_weight': {0: 0.3, 1: 0.7},\n",
       "   'max_iter': 1000,\n",
       "   'penalty': 'l2'},\n",
       "  {'C': 10, 'class_weight': None, 'max_iter': 1000, 'penalty': 'l2'},\n",
       "  {'C': 10,\n",
       "   'class_weight': {0: 0.1, 1: 0.9},\n",
       "   'max_iter': 1000,\n",
       "   'penalty': 'l2'},\n",
       "  {'C': 10,\n",
       "   'class_weight': {0: 0.2, 1: 0.8},\n",
       "   'max_iter': 1000,\n",
       "   'penalty': 'l2'},\n",
       "  {'C': 10,\n",
       "   'class_weight': {0: 0.3, 1: 0.7},\n",
       "   'max_iter': 1000,\n",
       "   'penalty': 'l2'},\n",
       "  {'C': 100, 'class_weight': None, 'max_iter': 1000, 'penalty': 'l2'},\n",
       "  {'C': 100,\n",
       "   'class_weight': {0: 0.1, 1: 0.9},\n",
       "   'max_iter': 1000,\n",
       "   'penalty': 'l2'},\n",
       "  {'C': 100,\n",
       "   'class_weight': {0: 0.2, 1: 0.8},\n",
       "   'max_iter': 1000,\n",
       "   'penalty': 'l2'},\n",
       "  {'C': 100,\n",
       "   'class_weight': {0: 0.3, 1: 0.7},\n",
       "   'max_iter': 1000,\n",
       "   'penalty': 'l2'},\n",
       "  {'C': 1000, 'class_weight': None, 'max_iter': 1000, 'penalty': 'l2'},\n",
       "  {'C': 1000,\n",
       "   'class_weight': {0: 0.1, 1: 0.9},\n",
       "   'max_iter': 1000,\n",
       "   'penalty': 'l2'},\n",
       "  {'C': 1000,\n",
       "   'class_weight': {0: 0.2, 1: 0.8},\n",
       "   'max_iter': 1000,\n",
       "   'penalty': 'l2'},\n",
       "  {'C': 1000,\n",
       "   'class_weight': {0: 0.3, 1: 0.7},\n",
       "   'max_iter': 1000,\n",
       "   'penalty': 'l2'},\n",
       "  {'C': 10000, 'class_weight': None, 'max_iter': 1000, 'penalty': 'l2'},\n",
       "  {'C': 10000,\n",
       "   'class_weight': {0: 0.1, 1: 0.9},\n",
       "   'max_iter': 1000,\n",
       "   'penalty': 'l2'},\n",
       "  {'C': 10000,\n",
       "   'class_weight': {0: 0.2, 1: 0.8},\n",
       "   'max_iter': 1000,\n",
       "   'penalty': 'l2'},\n",
       "  {'C': 10000,\n",
       "   'class_weight': {0: 0.3, 1: 0.7},\n",
       "   'max_iter': 1000,\n",
       "   'penalty': 'l2'}],\n",
       " 'split0_test_score': array([0.        , 0.36722605, 0.00062712, 0.        , 0.00125408,\n",
       "        0.36318182, 0.0498456 , 0.00401053, 0.01533513, 0.36085912,\n",
       "        0.20471515, 0.07084534, 0.02591123, 0.35794791, 0.23504566,\n",
       "        0.10996692, 0.02724526, 0.35799913, 0.2397731 , 0.11786888,\n",
       "        0.02773582, 0.35768801, 0.24058072, 0.11902836, 0.02785826,\n",
       "        0.35777566, 0.24064016, 0.11913566, 0.02785757, 0.35778053,\n",
       "        0.24063086, 0.11913566, 0.02785757, 0.35778053, 0.24063086,\n",
       "        0.11913566, 0.02785757, 0.35778053, 0.24063086, 0.11913566]),\n",
       " 'mean_test_score': array([0.        , 0.36722605, 0.00062712, 0.        , 0.00125408,\n",
       "        0.36318182, 0.0498456 , 0.00401053, 0.01533513, 0.36085912,\n",
       "        0.20471515, 0.07084534, 0.02591123, 0.35794791, 0.23504566,\n",
       "        0.10996692, 0.02724526, 0.35799913, 0.2397731 , 0.11786888,\n",
       "        0.02773582, 0.35768801, 0.24058072, 0.11902836, 0.02785826,\n",
       "        0.35777566, 0.24064016, 0.11913566, 0.02785757, 0.35778053,\n",
       "        0.24063086, 0.11913566, 0.02785757, 0.35778053, 0.24063086,\n",
       "        0.11913566, 0.02785757, 0.35778053, 0.24063086, 0.11913566]),\n",
       " 'std_test_score': array([0., 0., 0., 0., 0., 0., 0., 0., 0., 0., 0., 0., 0., 0., 0., 0., 0.,\n",
       "        0., 0., 0., 0., 0., 0., 0., 0., 0., 0., 0., 0., 0., 0., 0., 0., 0.,\n",
       "        0., 0., 0., 0., 0., 0.]),\n",
       " 'rank_test_score': array([39,  1, 38, 39, 37,  2, 27, 36, 35,  3, 18, 26, 34,  5, 17, 25, 33,\n",
       "         4, 16, 24, 32, 10, 15, 23, 28,  9, 11, 19, 29,  6, 12, 19, 29,  6,\n",
       "        12, 19, 29,  6, 12, 19], dtype=int32)}"
      ]
     },
     "execution_count": 21,
     "metadata": {},
     "output_type": "execute_result"
    }
   ],
   "source": [
    "lr_grid_search_2.cv_results_"
   ]
  },
  {
   "cell_type": "code",
   "execution_count": 15,
   "metadata": {},
   "outputs": [
    {
     "name": "stdout",
     "output_type": "stream",
     "text": [
      "Fitting 1 folds for each of 40 candidates, totalling 40 fits\n"
     ]
    },
    {
     "name": "stderr",
     "output_type": "stream",
     "text": [
      "[Parallel(n_jobs=-1)]: Using backend LokyBackend with 24 concurrent workers.\n",
      "[Parallel(n_jobs=-1)]: Done  34 out of  40 | elapsed:    5.6s remaining:    1.0s\n",
      "[Parallel(n_jobs=-1)]: Done  40 out of  40 | elapsed:  1.7min finished\n"
     ]
    },
    {
     "data": {
      "text/plain": [
       "GridSearchCV(cv=PredefinedSplit(test_fold=array([-1, -1, ...,  0,  0])),\n",
       "             estimator=LogisticRegression(solver='liblinear'), n_jobs=-1,\n",
       "             param_grid={'C': [1e-05, 0.0001, 0.001, 0.01, 0.1, 1, 10, 100,\n",
       "                               1000, 10000],\n",
       "                         'class_weight': [None, {0: 0.1, 1: 0.9},\n",
       "                                          {0: 0.2, 1: 0.8}, {0: 0.3, 1: 0.7}],\n",
       "                         'penalty': ['l1']},\n",
       "             scoring=make_scorer(fbeta_score, beta=2), verbose=1)"
      ]
     },
     "execution_count": 15,
     "metadata": {},
     "output_type": "execute_result"
    }
   ],
   "source": [
    "#Validation For l1 penalty\n",
    "#set up a paramater grid\n",
    "param_grid_lr = {'C':[10**(i) for i in range(-5,5)], 'penalty':['l1'],\n",
    "                 'class_weight':[None,{0:0.1,1:0.9},{0:0.2,1:0.8},{0:0.3,1:0.7}]}\n",
    "\n",
    "#call the GridSearchCV class, use LogisticRegression and 'F beta' for scoring\n",
    "lr_grid_search_1 = GridSearchCV(LogisticRegression(solver='liblinear'), \n",
    "                              param_grid_lr, cv = pds, scoring = f2_score,verbose = 1,n_jobs = -1) \n",
    "lr_grid_search_1.fit(X_con, y_con)"
   ]
  },
  {
   "cell_type": "markdown",
   "metadata": {},
   "source": [
    "# Down Sampling"
   ]
  },
  {
   "cell_type": "code",
   "execution_count": 33,
   "metadata": {},
   "outputs": [],
   "source": [
    "#Drop bad features\n",
    "scaled_data_jan = scaled_data_jan.drop(columns= bad_features)\n",
    "\n",
    "#Drop high colinearity\n",
    "res = hlper_fnc(so[so!=1].head(46).index.tolist())\n",
    "drop = res[0][0::2]\n",
    "scaled_data_jan = scaled_data_jan.drop(columns= drop)\n",
    "\n",
    "#Down Sampling\n",
    "down_1 = scaled_data_jan[scaled_data_jan.is_churn == 1]\n",
    "temp = scaled_data_jan[scaled_data_jan.is_churn == 0]\n",
    "down_0 = scaled_data_jan.sample(n = 27283)\n",
    "down_train = pd.concat([down_0,down_1])\n",
    "X = down_train.drop(columns=['is_churn'])\n",
    "y = down_train.is_churn"
   ]
  },
  {
   "cell_type": "code",
   "execution_count": 34,
   "metadata": {},
   "outputs": [
    {
     "name": "stdout",
     "output_type": "stream",
     "text": [
      "Fitting 1 folds for each of 40 candidates, totalling 40 fits\n"
     ]
    },
    {
     "name": "stderr",
     "output_type": "stream",
     "text": [
      "[Parallel(n_jobs=-1)]: Using backend LokyBackend with 24 concurrent workers.\n",
      "[Parallel(n_jobs=-1)]: Done  34 out of  40 | elapsed:    6.0s remaining:    1.1s\n",
      "[Parallel(n_jobs=-1)]: Done  40 out of  40 | elapsed:    6.1s finished\n"
     ]
    },
    {
     "data": {
      "text/plain": [
       "GridSearchCV(cv=PredefinedSplit(test_fold=array([-1, -1, ...,  0,  0])),\n",
       "             estimator=LogisticRegression(), n_jobs=-1,\n",
       "             param_grid={'C': [1e-05, 0.0001, 0.001, 0.01, 0.1, 1, 10, 100,\n",
       "                               1000, 10000],\n",
       "                         'class_weight': [None, {0: 0.05, 1: 0.95},\n",
       "                                          {0: 0.1, 1: 0.9}, {0: 0.3, 1: 0.7}],\n",
       "                         'max_iter': [1000], 'penalty': ['l2']},\n",
       "             scoring=make_scorer(fbeta_score, beta=2, pos_label=1), verbose=1)"
      ]
     },
     "execution_count": 34,
     "metadata": {},
     "output_type": "execute_result"
    }
   ],
   "source": [
    "#Validation For l2 penalty\n",
    "train = X\n",
    "train_y = y\n",
    "\n",
    "#Use PredefinedSplit\n",
    "X_con = np.concatenate((train,X_Validation),axis = 0)\n",
    "y_con = np.concatenate((train_y,y_Validation),axis = 0)\n",
    "split_index = [-1]*len(train_y)+[0]*len(y_Validation)\n",
    "pds = PredefinedSplit(test_fold = split_index)\n",
    "\n",
    "\n",
    "#set up a paramater grid\n",
    "param_grid_lr = {'C':[10**(i) for i in range(-5,5)], 'penalty':['l2'],\n",
    "                 'class_weight':[None,{0:0.05,1:0.95},{0:0.1,1:0.9},{0:0.3,1:0.7}],'max_iter':[1000]}\n",
    "\n",
    "f2_score = make_scorer(fbeta_score, beta=2, pos_label=1)\n",
    "\n",
    "#call the GridSearchCV class, use LogisticRegression and 'log_loss' for scoring\n",
    "lr_grid_search_2 = GridSearchCV(LogisticRegression(solver='lbfgs'), \n",
    "                              param_grid_lr, cv = pds, scoring = f2_score, verbose = 1,n_jobs = -1) \n",
    "lr_grid_search_2.fit(X_con, y_con)"
   ]
  },
  {
   "cell_type": "code",
   "execution_count": 35,
   "metadata": {},
   "outputs": [
    {
     "name": "stdout",
     "output_type": "stream",
     "text": [
      "Fitting 1 folds for each of 40 candidates, totalling 40 fits\n"
     ]
    },
    {
     "name": "stderr",
     "output_type": "stream",
     "text": [
      "[Parallel(n_jobs=-1)]: Using backend LokyBackend with 24 concurrent workers.\n",
      "[Parallel(n_jobs=-1)]: Done  34 out of  40 | elapsed:    2.8s remaining:    0.5s\n",
      "[Parallel(n_jobs=-1)]: Done  40 out of  40 | elapsed:    6.2s finished\n"
     ]
    },
    {
     "data": {
      "text/plain": [
       "GridSearchCV(cv=PredefinedSplit(test_fold=array([-1, -1, ...,  0,  0])),\n",
       "             estimator=LogisticRegression(solver='liblinear'), n_jobs=-1,\n",
       "             param_grid={'C': [1e-05, 0.0001, 0.001, 0.01, 0.1, 1, 10, 100,\n",
       "                               1000, 10000],\n",
       "                         'class_weight': [None, {0: 0.1, 1: 0.9},\n",
       "                                          {0: 0.2, 1: 0.8}, {0: 0.3, 1: 0.7}],\n",
       "                         'penalty': ['l1']},\n",
       "             scoring=make_scorer(fbeta_score, beta=2, pos_label=1), verbose=1)"
      ]
     },
     "execution_count": 35,
     "metadata": {},
     "output_type": "execute_result"
    }
   ],
   "source": [
    "#Validation For l1 penalty\n",
    "#set up a paramater grid\n",
    "param_grid_lr = {'C':[10**(i) for i in range(-5,5)], 'penalty':['l1'],\n",
    "                 'class_weight':[None,{0:0.1,1:0.9},{0:0.2,1:0.8},{0:0.3,1:0.7}]}\n",
    "\n",
    "#call the GridSearchCV class, use LogisticRegression and 'F beta' for scoring\n",
    "lr_grid_search_1 = GridSearchCV(LogisticRegression(solver='liblinear'), \n",
    "                              param_grid_lr, cv = pds, scoring = f2_score,verbose = 1,n_jobs = -1) \n",
    "lr_grid_search_1.fit(X_con, y_con)"
   ]
  }
 ],
 "metadata": {
  "kernelspec": {
   "display_name": "Python 3",
   "language": "python",
   "name": "python3"
  },
  "language_info": {
   "codemirror_mode": {
    "name": "ipython",
    "version": 3
   },
   "file_extension": ".py",
   "mimetype": "text/x-python",
   "name": "python",
   "nbconvert_exporter": "python",
   "pygments_lexer": "ipython3",
   "version": "3.8.3"
  }
 },
 "nbformat": 4,
 "nbformat_minor": 4
}
