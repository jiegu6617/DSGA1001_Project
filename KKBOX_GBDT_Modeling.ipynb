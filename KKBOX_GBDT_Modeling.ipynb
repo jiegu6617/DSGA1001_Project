{
 "cells": [
  {
   "cell_type": "markdown",
   "metadata": {},
   "source": [
    "# GBDT Modeling"
   ]
  },
  {
   "cell_type": "markdown",
   "metadata": {},
   "source": [
    "# Import package and data"
   ]
  },
  {
   "cell_type": "code",
   "execution_count": 2,
   "metadata": {},
   "outputs": [],
   "source": [
    "import pandas as pd\n",
    "import numpy as np\n",
    "import sklearn\n",
    "from sklearn.ensemble import GradientBoostingClassifier\n",
    "import matplotlib.pyplot as plt\n",
    "from sklearn.utils import resample\n",
    "from sklearn.model_selection import train_test_split\n",
    "from sklearn.ensemble import RandomForestClassifier\n",
    "from sklearn.metrics import log_loss,normalized_mutual_info_score,roc_auc_score,recall_score,f1_score,confusion_matrix\n",
    "from sklearn.linear_model import LogisticRegression\n",
    "from sklearn.model_selection import GridSearchCV,RandomizedSearchCV\n",
    "from sklearn import preprocessing\n",
    "#from imblearn.over_sampling import SMOTE\n",
    "from sklearn.model_selection import PredefinedSplit\n",
    "from sklearn.metrics import make_scorer,fbeta_score\n",
    "f2_score=make_scorer(fbeta_score,beta=2)"
   ]
  },
  {
   "cell_type": "code",
   "execution_count": 6,
   "metadata": {},
   "outputs": [],
   "source": [
    "data_jan=pd.read_csv('Jan_data.csv',index_col=0)\n",
    "data_feb=pd.read_csv('Feb_data.csv',index_col=0)"
   ]
  },
  {
   "cell_type": "code",
   "execution_count": 7,
   "metadata": {},
   "outputs": [],
   "source": [
    "X_train1=data_jan.drop('is_churn',1)\n",
    "y_train=data_jan['is_churn']\n",
    "scaler=preprocessing.StandardScaler()\n",
    "X_train=scaler.fit_transform(X_train1)\n",
    "X_train=pd.DataFrame(X_train,columns=X_train1.columns,index=X_train1.index)"
   ]
  },
  {
   "cell_type": "code",
   "execution_count": 9,
   "metadata": {},
   "outputs": [],
   "source": [
    "X_val1, X_test1, y_val, y_test = train_test_split(data_feb.drop('is_churn',1),data_feb.is_churn,test_size=0.5)\n",
    "X_val=scaler.fit_transform(X_val1)\n",
    "X_test=scaler.fit_transform(X_test1)\n",
    "X_val=pd.DataFrame(X_val,columns=X_val1.columns,index=X_val1.index)\n",
    "X_test=pd.DataFrame(X_test,columns=X_test1.columns,index=X_test1.index)"
   ]
  },
  {
   "cell_type": "code",
   "execution_count": 11,
   "metadata": {},
   "outputs": [],
   "source": [
    "from sklearn.model_selection import PredefinedSplit\n",
    "X=X_train.append(X_val,ignore_index=True)\n",
    "y=pd.concat([y_train,y_val])\n",
    "\n",
    "#split_index = [-1 if x in X_train.index else 0]\n",
    "split_index=np.zeros(len(X),dtype=int)\n",
    "split_index[:len(X_train)]=-1\n",
    "split_index=split_index.tolist()\n",
    "# Use the list to create PredefinedSplit\n",
    "pds = PredefinedSplit(test_fold = split_index)"
   ]
  },
  {
   "cell_type": "markdown",
   "metadata": {},
   "source": [
    "# Fit Model in Default Hyperparameters"
   ]
  },
  {
   "cell_type": "code",
   "execution_count": 56,
   "metadata": {},
   "outputs": [
    {
     "data": {
      "text/plain": [
       "0.23271328125551793"
      ]
     },
     "execution_count": 56,
     "metadata": {},
     "output_type": "execute_result"
    }
   ],
   "source": [
    "gbdt_clf1 = GradientBoostingClassifier()\n",
    "gbdt_clf1.fit(X_train,y_train)\n",
    "y_pred=gbdt_clf1.predict(X_val)\n",
    "fbeta_score(y_val,y_pred)"
   ]
  },
  {
   "cell_type": "markdown",
   "metadata": {},
   "source": [
    "# Tuning n_estimator &max depth"
   ]
  },
  {
   "cell_type": "code",
   "execution_count": 14,
   "metadata": {},
   "outputs": [],
   "source": [
    "def gd_search_zero(X,y):\n",
    "    gbdt_clf0 = GradientBoostingClassifier(learning_rate=0.1, min_samples_split=300,\n",
    "                                       min_samples_leaf=20,max_depth=8, subsample=0.8,random_state=10)\n",
    "    param0=dict(n_estimators = [40,60,80,100], max_depth = [5,7,9])\n",
    "    gd_clf0 = GridSearchCV(estimator=gbdt_clf0, cv=pds, param_grid=param0, \n",
    "                                n_jobs=-1,scoring=f2_score,verbose=10)\n",
    "    gd_clf0.fit(X,y)\n",
    "    best_param=gd_clf0.best_params_\n",
    "    cv_results=gd_clf0.cv_results_\n",
    "    return gd_clf0,best_param,cv_results"
   ]
  },
  {
   "cell_type": "code",
   "execution_count": 1,
   "metadata": {},
   "outputs": [],
   "source": [
    "clf0,param0,cv_results0=gd_search_zero(X,y)"
   ]
  },
  {
   "cell_type": "code",
   "execution_count": 21,
   "metadata": {},
   "outputs": [
    {
     "data": {
      "text/plain": [
       "{'max_depth': 9, 'n_estimators': 100}"
      ]
     },
     "execution_count": 21,
     "metadata": {},
     "output_type": "execute_result"
    }
   ],
   "source": [
    "param0"
   ]
  },
  {
   "cell_type": "markdown",
   "metadata": {},
   "source": [
    "# Tuning tree-related parameters"
   ]
  },
  {
   "cell_type": "code",
   "execution_count": 11,
   "metadata": {},
   "outputs": [],
   "source": [
    "def gd_search2(X,y):\n",
    "    gbdt_clf2 = GradientBoostingClassifier(learning_rate=0.1, n_estimators=100,\n",
    "                                        subsample=0.8,max_depth = 9, random_state=10)\n",
    "    param2= {'min_samples_split':range(100,801,200),'min_samples_leaf':[20,40,60,80]}  \n",
    "    gd_clf2 = GridSearchCV(estimator=gbdt_clf2, cv=pds, param_grid=param2, \n",
    "                                n_jobs=-1,scoring='neg_log_loss',verbose=10)\n",
    "    gd_clf2.fit(X,y)\n",
    "    best_param=gd_clf2.best_params_\n",
    "    cv_results=gd_clf2.cv_results_\n",
    "    return gd_clf2,best_param,cv_results"
   ]
  },
  {
   "cell_type": "code",
   "execution_count": 12,
   "metadata": {},
   "outputs": [
    {
     "name": "stdout",
     "output_type": "stream",
     "text": [
      "Fitting 1 folds for each of 16 candidates, totalling 16 fits\n"
     ]
    },
    {
     "name": "stderr",
     "output_type": "stream",
     "text": [
      "[Parallel(n_jobs=-1)]: Using backend LokyBackend with 48 concurrent workers.\n",
      "[Parallel(n_jobs=-1)]: Done   3 out of  16 | elapsed: 104.5min remaining: 452.9min\n",
      "[Parallel(n_jobs=-1)]: Done   5 out of  16 | elapsed: 104.8min remaining: 230.5min\n",
      "[Parallel(n_jobs=-1)]: Done   7 out of  16 | elapsed: 104.8min remaining: 134.8min\n",
      "[Parallel(n_jobs=-1)]: Done   9 out of  16 | elapsed: 105.4min remaining: 82.0min\n",
      "[Parallel(n_jobs=-1)]: Done  11 out of  16 | elapsed: 105.6min remaining: 48.0min\n",
      "[Parallel(n_jobs=-1)]: Done  13 out of  16 | elapsed: 105.6min remaining: 24.4min\n",
      "[Parallel(n_jobs=-1)]: Done  16 out of  16 | elapsed: 108.5min finished\n"
     ]
    }
   ],
   "source": [
    "clf2,param2,cv_results2=gd_search2(X,y)"
   ]
  },
  {
   "cell_type": "code",
   "execution_count": 13,
   "metadata": {},
   "outputs": [
    {
     "data": {
      "text/plain": [
       "{'min_samples_leaf': 80, 'min_samples_split': 700}"
      ]
     },
     "execution_count": 13,
     "metadata": {},
     "output_type": "execute_result"
    }
   ],
   "source": [
    "param2"
   ]
  }
 ],
 "metadata": {
  "kernelspec": {
   "display_name": "Python 3",
   "language": "python",
   "name": "python3"
  },
  "language_info": {
   "codemirror_mode": {
    "name": "ipython",
    "version": 3
   },
   "file_extension": ".py",
   "mimetype": "text/x-python",
   "name": "python",
   "nbconvert_exporter": "python",
   "pygments_lexer": "ipython3",
   "version": "3.8.3"
  }
 },
 "nbformat": 4,
 "nbformat_minor": 4
}
