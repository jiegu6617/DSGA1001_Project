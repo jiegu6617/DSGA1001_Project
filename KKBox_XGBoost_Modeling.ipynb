{
 "cells": [
  {
   "cell_type": "markdown",
   "metadata": {},
   "source": [
    "# XGBoost Model"
   ]
  },
  {
   "cell_type": "markdown",
   "metadata": {},
   "source": [
    "# Data importing and splitting "
   ]
  },
  {
   "cell_type": "code",
   "execution_count": 1,
   "metadata": {},
   "outputs": [],
   "source": [
    "import pandas as pd\n",
    "import numpy as np\n",
    "import xgboost\n",
    "import matplotlib.pyplot as plt\n",
    "from sklearn.utils import resample\n",
    "from sklearn.model_selection import train_test_split\n",
    "from sklearn.ensemble import RandomForestClassifier\n",
    "from sklearn.metrics import normalized_mutual_info_score,roc_auc_score,recall_score,f1_score,confusion_matrix,roc_curve\n",
    "from sklearn.linear_model import LogisticRegression\n",
    "from sklearn.model_selection import GridSearchCV,RandomizedSearchCV\n",
    "from sklearn import preprocessing\n",
    "from sklearn.model_selection import PredefinedSplit\n",
    "from sklearn.metrics import make_scorer,fbeta_score\n",
    "f2_score=make_scorer(fbeta_score,beta=2)"
   ]
  },
  {
   "cell_type": "code",
   "execution_count": 2,
   "metadata": {},
   "outputs": [],
   "source": [
    "data_jan=pd.read_csv('/data/xx715/Jan_data.csv',index_col=0)\n",
    "data_feb=pd.read_csv('/data/xx715/Feb_data.csv',index_col=0)"
   ]
  },
  {
   "cell_type": "code",
   "execution_count": 3,
   "metadata": {},
   "outputs": [],
   "source": [
    "X_train1=data_jan.drop('is_churn',1)\n",
    "x_cols = [x for x in X_train1.columns if x != 'std_sec']\n",
    "y_train=data_jan['is_churn']\n",
    "scaler=preprocessing.StandardScaler()\n",
    "X_train=X_train1\n",
    "X_train[x_cols]=scaler.fit_transform(X_train1[x_cols])\n",
    "X_train=pd.DataFrame(X_train,columns=X_train1.columns,index=X_train1.index)\n",
    "\n",
    "X_val1, X_test1, y_val, y_test = train_test_split(data_feb.drop('is_churn',1),data_feb.is_churn,test_size=0.5)\n",
    "X_val=X_val1\n",
    "X_val[x_cols]=scaler.fit_transform(X_val1[x_cols])\n",
    "X_test=scaler.fit_transform(X_test1)\n",
    "X_val=pd.DataFrame(X_val,columns=X_val1.columns,index=X_val1.index)\n",
    "X_test=pd.DataFrame(X_test,columns=X_test1.columns,index=X_test1.index)"
   ]
  },
  {
   "cell_type": "code",
   "execution_count": 10,
   "metadata": {},
   "outputs": [],
   "source": [
    "#exchange feature columns in february dataset that do not match with Janruary dataset\n",
    "cols = list(X_test)\n",
    "cols = cols[:41] + [cols[42]]+[cols[41]]+cols[43:]\n",
    "X_test= X_test[cols]\n",
    "X_val=X_val[cols]"
   ]
  },
  {
   "cell_type": "code",
   "execution_count": 4,
   "metadata": {},
   "outputs": [],
   "source": [
    "from sklearn.model_selection import PredefinedSplit\n",
    "X=X_train.append(X_val,ignore_index=True)\n",
    "y=pd.concat([y_train,y_val])\n",
    "split_index=np.zeros(len(X),dtype=int)\n",
    "split_index[:len(X_train)]=-1\n",
    "split_index=split_index.tolist()\n",
    "pds = PredefinedSplit(test_fold = split_index)"
   ]
  },
  {
   "cell_type": "code",
   "execution_count": 13,
   "metadata": {},
   "outputs": [
    {
     "name": "stdout",
     "output_type": "stream",
     "text": [
      "For sample size 1024, The mean logloss is 0.4461647716221355.\n",
      "For sample size 2048, The mean logloss is 0.41884252462249777.\n",
      "For sample size 4096, The mean logloss is 0.3825022692370307.\n",
      "For sample size 8192, The mean logloss is 0.3307450371837777.\n",
      "For sample size 16384, The mean logloss is 0.29262194600468716.\n",
      "For sample size 32768, The mean logloss is 0.2678434816742731.\n",
      "For sample size 65536, The mean logloss is 0.25124541246069626.\n",
      "For sample size 131072, The mean logloss is 0.23953985232688374.\n",
      "For sample size 262144, The mean logloss is 0.23195320906869865.\n",
      "For sample size 524288, The mean logloss is 0.22686886637528453.\n",
      "For sample size 272830, The mean logloss is 0.23170643243101025.\n"
     ]
    }
   ],
   "source": [
    "linspace = [2**(i) for i in range(10,20)]+[len(X_train)]\n",
    "xgb_mean = np.zeros(len(linspace))\n",
    "xgb_se = np.zeros(len(linspace))\n",
    "\n",
    "#Run 20 resampling\n",
    "for i,size in enumerate(linspace):\n",
    "    xgb_mean[i],xgb_se[i]= logloss_resampling(X_train,y_train,20, size)\n",
    "    print('For sample size {}, The mean logloss is {}.'.format(size,xgb_mean[i]))"
   ]
  },
  {
   "cell_type": "markdown",
   "metadata": {},
   "source": [
    "# Leaning Curve &Resampling"
   ]
  },
  {
   "cell_type": "code",
   "execution_count": 7,
   "metadata": {},
   "outputs": [],
   "source": [
    "def logloss_resampling(train,train_y,nruns, sampsize):\n",
    "    \n",
    "    loglosses = []\n",
    "    \n",
    "    #XGBoost\n",
    "    my_model =  xgboost.XGBClassifier(n_jobs=-1,tree_method='hist')\n",
    "    #fit the models and compute logloss on test data\n",
    "    for i in range(nruns):\n",
    "        index_list = np.random.randint(0, len(train), size=sampsize)\n",
    "        train_samp = train.iloc[index_list]\n",
    "        y_sample = train_y.iloc[index_list]\n",
    "        my_model.fit(train_samp,y_sample)\n",
    "        loglosses.append(log_loss(train_y, my_model.predict_proba(train)[:, 1]))\n",
    "       \n",
    "    #Returns the mean(logloss) and SE(logloss)\n",
    "    return np.mean(loglosses),np.std(loglosses,ddof = 1)/np.sqrt(nruns)"
   ]
  },
  {
   "cell_type": "markdown",
   "metadata": {},
   "source": [
    "# Tuning paramters with grid search"
   ]
  },
  {
   "cell_type": "code",
   "execution_count": 6,
   "metadata": {},
   "outputs": [],
   "source": [
    "def gd_search(X,y):\n",
    "    xgb_clf = xgboost.XGBClassifier(tree_method='hist',n_jobs=-1,objective='binary:logistic')\n",
    "    param=dict(n_estimators=[600,700,800,900],\n",
    "               max_depth=[5,6,7,8],min_child_weight=[3,4,5],\n",
    "               subsample=[0.7,0.8],learning_rate=[0.001,0.002,0.003],\n",
    "               scale_pos_weight=[9])\n",
    "    \n",
    "    gd_clf = GridSearchCV(estimator=xgb_clf, cv=pds, param_grid=param, \n",
    "                                n_jobs=-1,scoring=f2_score, verbose=10)\n",
    "    gd_clf.fit(X,y)\n",
    "    best_param=gd_clf.best_params_\n",
    "    cv_results=pd.DataFrame(gd_clf.cv_results_)\n",
    "    return gd_clf,best_param,cv_results"
   ]
  },
  {
   "cell_type": "code",
   "execution_count": 7,
   "metadata": {},
   "outputs": [
    {
     "name": "stdout",
     "output_type": "stream",
     "text": [
      "Fitting 1 folds for each of 288 candidates, totalling 288 fits\n"
     ]
    },
    {
     "name": "stderr",
     "output_type": "stream",
     "text": [
      "[Parallel(n_jobs=-1)]: Using backend LokyBackend with 24 concurrent workers.\n",
      "[Parallel(n_jobs=-1)]: Done   2 tasks      | elapsed:  2.0min\n",
      "[Parallel(n_jobs=-1)]: Done  13 tasks      | elapsed:  2.6min\n",
      "[Parallel(n_jobs=-1)]: Done  24 tasks      | elapsed:  3.3min\n",
      "[Parallel(n_jobs=-1)]: Done  37 tasks      | elapsed:  6.4min\n",
      "[Parallel(n_jobs=-1)]: Done  50 tasks      | elapsed:  7.8min\n",
      "[Parallel(n_jobs=-1)]: Done  65 tasks      | elapsed: 10.0min\n",
      "[Parallel(n_jobs=-1)]: Done  80 tasks      | elapsed: 12.7min\n",
      "[Parallel(n_jobs=-1)]: Done  97 tasks      | elapsed: 14.3min\n",
      "[Parallel(n_jobs=-1)]: Done 114 tasks      | elapsed: 16.1min\n",
      "[Parallel(n_jobs=-1)]: Done 133 tasks      | elapsed: 18.2min\n",
      "[Parallel(n_jobs=-1)]: Done 152 tasks      | elapsed: 20.8min\n",
      "[Parallel(n_jobs=-1)]: Done 173 tasks      | elapsed: 24.2min\n",
      "[Parallel(n_jobs=-1)]: Done 194 tasks      | elapsed: 26.7min\n",
      "[Parallel(n_jobs=-1)]: Done 217 tasks      | elapsed: 29.1min\n",
      "[Parallel(n_jobs=-1)]: Done 240 tasks      | elapsed: 31.7min\n",
      "[Parallel(n_jobs=-1)]: Done 270 out of 288 | elapsed: 36.1min remaining:  2.4min\n",
      "[Parallel(n_jobs=-1)]: Done 288 out of 288 | elapsed: 38.9min finished\n"
     ]
    }
   ],
   "source": [
    "clf,param,cv_results=gd_search(X,y)"
   ]
  },
  {
   "cell_type": "code",
   "execution_count": 28,
   "metadata": {},
   "outputs": [
    {
     "data": {
      "text/plain": [
       "{'learning_rate': 0.001,\n",
       " 'max_depth': 5,\n",
       " 'min_child_weight': 5,\n",
       " 'n_estimators': 800,\n",
       " 'scale_pos_weight': 9,\n",
       " 'subsample': 0.7}"
      ]
     },
     "execution_count": 28,
     "metadata": {},
     "output_type": "execute_result"
    }
   ],
   "source": [
    "param"
   ]
  },
  {
   "cell_type": "code",
   "execution_count": 14,
   "metadata": {},
   "outputs": [
    {
     "data": {
      "text/html": [
       "<div>\n",
       "<style scoped>\n",
       "    .dataframe tbody tr th:only-of-type {\n",
       "        vertical-align: middle;\n",
       "    }\n",
       "\n",
       "    .dataframe tbody tr th {\n",
       "        vertical-align: top;\n",
       "    }\n",
       "\n",
       "    .dataframe thead th {\n",
       "        text-align: right;\n",
       "    }\n",
       "</style>\n",
       "<table border=\"1\" class=\"dataframe\">\n",
       "  <thead>\n",
       "    <tr style=\"text-align: right;\">\n",
       "      <th></th>\n",
       "      <th>mean_fit_time</th>\n",
       "      <th>std_fit_time</th>\n",
       "      <th>mean_score_time</th>\n",
       "      <th>std_score_time</th>\n",
       "      <th>param_learning_rate</th>\n",
       "      <th>param_max_depth</th>\n",
       "      <th>param_min_child_weight</th>\n",
       "      <th>param_n_estimators</th>\n",
       "      <th>param_scale_pos_weight</th>\n",
       "      <th>param_subsample</th>\n",
       "      <th>params</th>\n",
       "      <th>split0_test_score</th>\n",
       "      <th>mean_test_score</th>\n",
       "      <th>std_test_score</th>\n",
       "      <th>rank_test_score</th>\n",
       "    </tr>\n",
       "  </thead>\n",
       "  <tbody>\n",
       "    <tr>\n",
       "      <th>0</th>\n",
       "      <td>104.469229</td>\n",
       "      <td>0.0</td>\n",
       "      <td>5.856106</td>\n",
       "      <td>0.0</td>\n",
       "      <td>0.001</td>\n",
       "      <td>5</td>\n",
       "      <td>3</td>\n",
       "      <td>600</td>\n",
       "      <td>9</td>\n",
       "      <td>0.7</td>\n",
       "      <td>{'learning_rate': 0.001, 'max_depth': 5, 'min_...</td>\n",
       "      <td>0.394572</td>\n",
       "      <td>0.394572</td>\n",
       "      <td>0.0</td>\n",
       "      <td>17</td>\n",
       "    </tr>\n",
       "    <tr>\n",
       "      <th>1</th>\n",
       "      <td>111.555126</td>\n",
       "      <td>0.0</td>\n",
       "      <td>7.546680</td>\n",
       "      <td>0.0</td>\n",
       "      <td>0.001</td>\n",
       "      <td>5</td>\n",
       "      <td>3</td>\n",
       "      <td>600</td>\n",
       "      <td>9</td>\n",
       "      <td>0.8</td>\n",
       "      <td>{'learning_rate': 0.001, 'max_depth': 5, 'min_...</td>\n",
       "      <td>0.394017</td>\n",
       "      <td>0.394017</td>\n",
       "      <td>0.0</td>\n",
       "      <td>27</td>\n",
       "    </tr>\n",
       "    <tr>\n",
       "      <th>2</th>\n",
       "      <td>125.725810</td>\n",
       "      <td>0.0</td>\n",
       "      <td>6.968832</td>\n",
       "      <td>0.0</td>\n",
       "      <td>0.001</td>\n",
       "      <td>5</td>\n",
       "      <td>3</td>\n",
       "      <td>700</td>\n",
       "      <td>9</td>\n",
       "      <td>0.7</td>\n",
       "      <td>{'learning_rate': 0.001, 'max_depth': 5, 'min_...</td>\n",
       "      <td>0.394795</td>\n",
       "      <td>0.394795</td>\n",
       "      <td>0.0</td>\n",
       "      <td>11</td>\n",
       "    </tr>\n",
       "    <tr>\n",
       "      <th>3</th>\n",
       "      <td>128.984033</td>\n",
       "      <td>0.0</td>\n",
       "      <td>6.689099</td>\n",
       "      <td>0.0</td>\n",
       "      <td>0.001</td>\n",
       "      <td>5</td>\n",
       "      <td>3</td>\n",
       "      <td>700</td>\n",
       "      <td>9</td>\n",
       "      <td>0.8</td>\n",
       "      <td>{'learning_rate': 0.001, 'max_depth': 5, 'min_...</td>\n",
       "      <td>0.394291</td>\n",
       "      <td>0.394291</td>\n",
       "      <td>0.0</td>\n",
       "      <td>23</td>\n",
       "    </tr>\n",
       "    <tr>\n",
       "      <th>4</th>\n",
       "      <td>146.128933</td>\n",
       "      <td>0.0</td>\n",
       "      <td>7.828300</td>\n",
       "      <td>0.0</td>\n",
       "      <td>0.001</td>\n",
       "      <td>5</td>\n",
       "      <td>3</td>\n",
       "      <td>800</td>\n",
       "      <td>9</td>\n",
       "      <td>0.7</td>\n",
       "      <td>{'learning_rate': 0.001, 'max_depth': 5, 'min_...</td>\n",
       "      <td>0.394844</td>\n",
       "      <td>0.394844</td>\n",
       "      <td>0.0</td>\n",
       "      <td>10</td>\n",
       "    </tr>\n",
       "    <tr>\n",
       "      <th>...</th>\n",
       "      <td>...</td>\n",
       "      <td>...</td>\n",
       "      <td>...</td>\n",
       "      <td>...</td>\n",
       "      <td>...</td>\n",
       "      <td>...</td>\n",
       "      <td>...</td>\n",
       "      <td>...</td>\n",
       "      <td>...</td>\n",
       "      <td>...</td>\n",
       "      <td>...</td>\n",
       "      <td>...</td>\n",
       "      <td>...</td>\n",
       "      <td>...</td>\n",
       "      <td>...</td>\n",
       "    </tr>\n",
       "    <tr>\n",
       "      <th>283</th>\n",
       "      <td>184.563845</td>\n",
       "      <td>0.0</td>\n",
       "      <td>13.549229</td>\n",
       "      <td>0.0</td>\n",
       "      <td>0.003</td>\n",
       "      <td>8</td>\n",
       "      <td>5</td>\n",
       "      <td>700</td>\n",
       "      <td>9</td>\n",
       "      <td>0.8</td>\n",
       "      <td>{'learning_rate': 0.003, 'max_depth': 8, 'min_...</td>\n",
       "      <td>0.376600</td>\n",
       "      <td>0.376600</td>\n",
       "      <td>0.0</td>\n",
       "      <td>197</td>\n",
       "    </tr>\n",
       "    <tr>\n",
       "      <th>284</th>\n",
       "      <td>197.693646</td>\n",
       "      <td>0.0</td>\n",
       "      <td>16.428110</td>\n",
       "      <td>0.0</td>\n",
       "      <td>0.003</td>\n",
       "      <td>8</td>\n",
       "      <td>5</td>\n",
       "      <td>800</td>\n",
       "      <td>9</td>\n",
       "      <td>0.7</td>\n",
       "      <td>{'learning_rate': 0.003, 'max_depth': 8, 'min_...</td>\n",
       "      <td>0.376006</td>\n",
       "      <td>0.376006</td>\n",
       "      <td>0.0</td>\n",
       "      <td>202</td>\n",
       "    </tr>\n",
       "    <tr>\n",
       "      <th>285</th>\n",
       "      <td>202.896682</td>\n",
       "      <td>0.0</td>\n",
       "      <td>13.728659</td>\n",
       "      <td>0.0</td>\n",
       "      <td>0.003</td>\n",
       "      <td>8</td>\n",
       "      <td>5</td>\n",
       "      <td>800</td>\n",
       "      <td>9</td>\n",
       "      <td>0.8</td>\n",
       "      <td>{'learning_rate': 0.003, 'max_depth': 8, 'min_...</td>\n",
       "      <td>0.373878</td>\n",
       "      <td>0.373878</td>\n",
       "      <td>0.0</td>\n",
       "      <td>218</td>\n",
       "    </tr>\n",
       "    <tr>\n",
       "      <th>286</th>\n",
       "      <td>215.422823</td>\n",
       "      <td>0.0</td>\n",
       "      <td>14.673432</td>\n",
       "      <td>0.0</td>\n",
       "      <td>0.003</td>\n",
       "      <td>8</td>\n",
       "      <td>5</td>\n",
       "      <td>900</td>\n",
       "      <td>9</td>\n",
       "      <td>0.7</td>\n",
       "      <td>{'learning_rate': 0.003, 'max_depth': 8, 'min_...</td>\n",
       "      <td>0.372171</td>\n",
       "      <td>0.372171</td>\n",
       "      <td>0.0</td>\n",
       "      <td>236</td>\n",
       "    </tr>\n",
       "    <tr>\n",
       "      <th>287</th>\n",
       "      <td>224.305467</td>\n",
       "      <td>0.0</td>\n",
       "      <td>13.967547</td>\n",
       "      <td>0.0</td>\n",
       "      <td>0.003</td>\n",
       "      <td>8</td>\n",
       "      <td>5</td>\n",
       "      <td>900</td>\n",
       "      <td>9</td>\n",
       "      <td>0.8</td>\n",
       "      <td>{'learning_rate': 0.003, 'max_depth': 8, 'min_...</td>\n",
       "      <td>0.370001</td>\n",
       "      <td>0.370001</td>\n",
       "      <td>0.0</td>\n",
       "      <td>250</td>\n",
       "    </tr>\n",
       "  </tbody>\n",
       "</table>\n",
       "<p>288 rows × 15 columns</p>\n",
       "</div>"
      ],
      "text/plain": [
       "     mean_fit_time  std_fit_time  mean_score_time  std_score_time  \\\n",
       "0       104.469229           0.0         5.856106             0.0   \n",
       "1       111.555126           0.0         7.546680             0.0   \n",
       "2       125.725810           0.0         6.968832             0.0   \n",
       "3       128.984033           0.0         6.689099             0.0   \n",
       "4       146.128933           0.0         7.828300             0.0   \n",
       "..             ...           ...              ...             ...   \n",
       "283     184.563845           0.0        13.549229             0.0   \n",
       "284     197.693646           0.0        16.428110             0.0   \n",
       "285     202.896682           0.0        13.728659             0.0   \n",
       "286     215.422823           0.0        14.673432             0.0   \n",
       "287     224.305467           0.0        13.967547             0.0   \n",
       "\n",
       "    param_learning_rate param_max_depth param_min_child_weight  \\\n",
       "0                 0.001               5                      3   \n",
       "1                 0.001               5                      3   \n",
       "2                 0.001               5                      3   \n",
       "3                 0.001               5                      3   \n",
       "4                 0.001               5                      3   \n",
       "..                  ...             ...                    ...   \n",
       "283               0.003               8                      5   \n",
       "284               0.003               8                      5   \n",
       "285               0.003               8                      5   \n",
       "286               0.003               8                      5   \n",
       "287               0.003               8                      5   \n",
       "\n",
       "    param_n_estimators param_scale_pos_weight param_subsample  \\\n",
       "0                  600                      9             0.7   \n",
       "1                  600                      9             0.8   \n",
       "2                  700                      9             0.7   \n",
       "3                  700                      9             0.8   \n",
       "4                  800                      9             0.7   \n",
       "..                 ...                    ...             ...   \n",
       "283                700                      9             0.8   \n",
       "284                800                      9             0.7   \n",
       "285                800                      9             0.8   \n",
       "286                900                      9             0.7   \n",
       "287                900                      9             0.8   \n",
       "\n",
       "                                                params  split0_test_score  \\\n",
       "0    {'learning_rate': 0.001, 'max_depth': 5, 'min_...           0.394572   \n",
       "1    {'learning_rate': 0.001, 'max_depth': 5, 'min_...           0.394017   \n",
       "2    {'learning_rate': 0.001, 'max_depth': 5, 'min_...           0.394795   \n",
       "3    {'learning_rate': 0.001, 'max_depth': 5, 'min_...           0.394291   \n",
       "4    {'learning_rate': 0.001, 'max_depth': 5, 'min_...           0.394844   \n",
       "..                                                 ...                ...   \n",
       "283  {'learning_rate': 0.003, 'max_depth': 8, 'min_...           0.376600   \n",
       "284  {'learning_rate': 0.003, 'max_depth': 8, 'min_...           0.376006   \n",
       "285  {'learning_rate': 0.003, 'max_depth': 8, 'min_...           0.373878   \n",
       "286  {'learning_rate': 0.003, 'max_depth': 8, 'min_...           0.372171   \n",
       "287  {'learning_rate': 0.003, 'max_depth': 8, 'min_...           0.370001   \n",
       "\n",
       "     mean_test_score  std_test_score  rank_test_score  \n",
       "0           0.394572             0.0               17  \n",
       "1           0.394017             0.0               27  \n",
       "2           0.394795             0.0               11  \n",
       "3           0.394291             0.0               23  \n",
       "4           0.394844             0.0               10  \n",
       "..               ...             ...              ...  \n",
       "283         0.376600             0.0              197  \n",
       "284         0.376006             0.0              202  \n",
       "285         0.373878             0.0              218  \n",
       "286         0.372171             0.0              236  \n",
       "287         0.370001             0.0              250  \n",
       "\n",
       "[288 rows x 15 columns]"
      ]
     },
     "execution_count": 14,
     "metadata": {},
     "output_type": "execute_result"
    }
   ],
   "source": [
    "cv_results"
   ]
  },
  {
   "cell_type": "code",
   "execution_count": 26,
   "metadata": {},
   "outputs": [
    {
     "name": "stdout",
     "output_type": "stream",
     "text": [
      "The Validation Fbeta score is 0.45466\n"
     ]
    }
   ],
   "source": [
    "auc=roc_auc_score(y_val,clf.predict_proba(X_val)[:,1])\n",
    "f1=f1_score(y_val,clf.predict(X_val))\n",
    "f2=fbeta_score(y_val,clf.predict(X_val), beta=2)\n",
    "print('The Validation Fbeta score is {}'.format('%.5f'%f2))"
   ]
  },
  {
   "cell_type": "markdown",
   "metadata": {},
   "source": [
    "# Best model on testing data"
   ]
  },
  {
   "cell_type": "code",
   "execution_count": 27,
   "metadata": {},
   "outputs": [
    {
     "name": "stdout",
     "output_type": "stream",
     "text": [
      "The test AUC score is 0.75597\n",
      "The test Fbeta score is 0.43949\n"
     ]
    }
   ],
   "source": [
    "auc=roc_auc_score(y_test,clf.predict_proba(X_test)[:,1])\n",
    "f1=f1_score(y_test,clf.predict(X_test))\n",
    "f2=fbeta_score(y_test,clf.predict(X_test), beta=2)\n",
    "print('The testAUC score is {}'.format('%.5f'%auc))\n",
    "print('The test f2 score is {}'.format('%.5f'%f2))"
   ]
  },
  {
   "cell_type": "code",
   "execution_count": 22,
   "metadata": {},
   "outputs": [
    {
     "data": {
      "text/plain": [
       "<matplotlib.legend.Legend at 0x7f0b70ff56a0>"
      ]
     },
     "execution_count": 22,
     "metadata": {},
     "output_type": "execute_result"
    },
    {
     "data": {
      "image/png": "[encoded data removed]",
      "text/plain": [
       "<Figure size 432x288 with 1 Axes>"
      ]
     },
     "metadata": {
      "needs_background": "light"
     },
     "output_type": "display_data"
    }
   ],
   "source": [
    "fpr, tpr, thresholds = roc_curve(y_test,clf.predict_proba(X_test)[:,1])\n",
    "#roc_auc = auc(fpr,tpr)\n",
    "#c = (np.random.rand(), np.random.rand(), np.random.rand())\n",
    "plt.plot(fpr, tpr, color = 'r', label =  ' (AUC = %0.5f)' % auc)\n",
    "\n",
    "plt.plot([0, 1], [0, 1], 'k--')\n",
    "plt.xlim([0.0, 1.0])\n",
    "plt.ylim([0.0, 1.0])\n",
    "plt.xlabel('FPR')\n",
    "plt.ylabel('TPR')\n",
    "plt.title('ROC_AUC Curve')\n",
    "plt.legend()"
   ]
  },
  {
   "cell_type": "code",
   "execution_count": 14,
   "metadata": {},
   "outputs": [
    {
     "data": {
      "text/plain": [
       "Text(0.5, 1.0, 'Mean Logloss and Confidence Interval')"
      ]
     },
     "execution_count": 14,
     "metadata": {},
     "output_type": "execute_result"
    },
    {
     "data": {
      "image/png": "[encoded data removed]",
      "text/plain": [
       "<Figure size 576x576 with 1 Axes>"
      ]
     },
     "metadata": {
      "needs_background": "light"
     },
     "output_type": "display_data"
    }
   ],
   "source": [
    "plt.figure(figsize = (8,8))\n",
    "plt.plot(np.log2(linspace),xgb_mean,'b',label = 'xgb:mean(Logloss)')\n",
    "plt.plot(np.log2(linspace),xgb_mean-2*xgb_se,'r+',label = 'xgb:mean(Logloss)-2stderr(Logloss)')\n",
    "plt.plot(np.log2(linspace),xgb_mean+2*xgb_se,'r--',label = 'xgb:mean(Logloss)+2stderr(Logloss)')\n",
    "\n",
    "plt.legend()\n",
    "plt.xlabel('Log2_Samplesize')\n",
    "plt.ylabel('Logloss')\n",
    "plt.title('Mean Logloss and Confidence Interval')"
   ]
  }
 ],
 "metadata": {
  "kernelspec": {
   "display_name": "Python 3",
   "language": "python",
   "name": "python3"
  },
  "language_info": {
   "codemirror_mode": {
    "name": "ipython",
    "version": 3
   },
   "file_extension": ".py",
   "mimetype": "text/x-python",
   "name": "python",
   "nbconvert_exporter": "python",
   "pygments_lexer": "ipython3",
   "version": "3.8.3"
  }
 },
 "nbformat": 4,
 "nbformat_minor": 4
}
