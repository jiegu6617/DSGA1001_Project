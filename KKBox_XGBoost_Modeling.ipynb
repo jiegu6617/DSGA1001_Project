{
 "cells": [
  {
   "cell_type": "markdown",
   "metadata": {},
   "source": [
    "# XGBoost Model"
   ]
  },
  {
   "cell_type": "markdown",
   "metadata": {},
   "source": [
    "# Data importing and splitting "
   ]
  },
  {
   "cell_type": "code",
   "execution_count": 1,
   "metadata": {},
   "outputs": [],
   "source": [
    "import pandas as pd\n",
    "import numpy as np\n",
    "import xgboost\n",
    "import matplotlib.pyplot as plt\n",
    "from sklearn.utils import resample\n",
    "from sklearn.model_selection import train_test_split\n",
    "from sklearn.ensemble import RandomForestClassifier\n",
    "from sklearn.metrics import normalized_mutual_info_score,roc_auc_score,recall_score,f1_score,confusion_matrix,roc_curve\n",
    "from sklearn.linear_model import LogisticRegression\n",
    "from sklearn.model_selection import GridSearchCV,RandomizedSearchCV\n",
    "from sklearn import preprocessing\n",
    "from sklearn.model_selection import PredefinedSplit\n",
    "from sklearn.metrics import make_scorer,fbeta_score\n",
    "f2_score=make_scorer(fbeta_score,beta=2)"
   ]
  },
  {
   "cell_type": "code",
   "execution_count": 43,
   "metadata": {},
   "outputs": [],
   "source": [
    "data_jan=pd.read_csv('/data/xx715/Jan_data.csv',index_col=0)\n",
    "data_feb=pd.read_csv('/data/xx715/Feb_data.csv',index_col=0)"
   ]
  },
  {
   "cell_type": "code",
   "execution_count": 44,
   "metadata": {},
   "outputs": [],
   "source": [
    "X_train1=data_jan.drop('is_churn',1)\n",
    "x_cols = [x for x in X_train1.columns if x != 'std_sec']\n",
    "y_train=data_jan['is_churn']\n",
    "scaler=preprocessing.StandardScaler()\n",
    "X_train=X_train1\n",
    "X_train[x_cols]=scaler.fit_transform(X_train1[x_cols])\n",
    "X_train=pd.DataFrame(X_train,columns=X_train1.columns,index=X_train1.index)\n",
    "\n",
    "X_val1, X_test1, y_val, y_test = train_test_split(data_feb.drop('is_churn',1),data_feb.is_churn,test_size=0.5)\n",
    "X_val=X_val1\n",
    "X_val[x_cols]=scaler.fit_transform(X_val1[x_cols])\n",
    "X_test=scaler.fit_transform(X_test1)\n",
    "X_val=pd.DataFrame(X_val,columns=X_val1.columns,index=X_val1.index)\n",
    "X_test=pd.DataFrame(X_test,columns=X_test1.columns,index=X_test1.index)"
   ]
  },
  {
   "cell_type": "code",
   "execution_count": 7,
   "metadata": {},
   "outputs": [],
   "source": [
    "from sklearn.model_selection import PredefinedSplit\n",
    "X=X_train.append(X_val,ignore_index=True)\n",
    "y=pd.concat([y_train,y_val])\n",
    "split_index=np.zeros(len(X),dtype=int)\n",
    "split_index[:len(X_train)]=-1\n",
    "split_index=split_index.tolist()\n",
    "pds = PredefinedSplit(test_fold = split_index)"
   ]
  },
  {
   "cell_type": "code",
   "execution_count": 13,
   "metadata": {},
   "outputs": [
    {
     "name": "stdout",
     "output_type": "stream",
     "text": [
      "For sample size 1024, The mean logloss is 0.4461647716221355.\n",
      "For sample size 2048, The mean logloss is 0.41884252462249777.\n",
      "For sample size 4096, The mean logloss is 0.3825022692370307.\n",
      "For sample size 8192, The mean logloss is 0.3307450371837777.\n",
      "For sample size 16384, The mean logloss is 0.29262194600468716.\n",
      "For sample size 32768, The mean logloss is 0.2678434816742731.\n",
      "For sample size 65536, The mean logloss is 0.25124541246069626.\n",
      "For sample size 131072, The mean logloss is 0.23953985232688374.\n",
      "For sample size 262144, The mean logloss is 0.23195320906869865.\n",
      "For sample size 524288, The mean logloss is 0.22686886637528453.\n",
      "For sample size 272830, The mean logloss is 0.23170643243101025.\n"
     ]
    }
   ],
   "source": [
    "linspace = [2**(i) for i in range(10,20)]+[len(X_train)]\n",
    "xgb_mean = np.zeros(len(linspace))\n",
    "xgb_se = np.zeros(len(linspace))\n",
    "\n",
    "#Run 20 resampling\n",
    "for i,size in enumerate(linspace):\n",
    "    xgb_mean[i],xgb_se[i]= logloss_resampling(X_train,y_train,20, size)\n",
    "    print('For sample size {}, The mean logloss is {}.'.format(size,xgb_mean[i]))"
   ]
  },
  {
   "cell_type": "markdown",
   "metadata": {},
   "source": [
    "# Leaning Curve &Resampling"
   ]
  },
  {
   "cell_type": "code",
   "execution_count": 7,
   "metadata": {},
   "outputs": [],
   "source": [
    "def logloss_resampling(train,train_y,nruns, sampsize):\n",
    "    \n",
    "    loglosses = []\n",
    "    \n",
    "    #XGBoost\n",
    "    my_model =  xgboost.XGBClassifier(n_jobs=-1,tree_method='hist')\n",
    "    #fit the models and compute logloss on test data\n",
    "    for i in range(nruns):\n",
    "        index_list = np.random.randint(0, len(train), size=sampsize)\n",
    "        train_samp = train.iloc[index_list]\n",
    "        y_sample = train_y.iloc[index_list]\n",
    "        my_model.fit(train_samp,y_sample)\n",
    "        loglosses.append(log_loss(train_y, my_model.predict_proba(train)[:, 1]))\n",
    "       \n",
    "    #Returns the mean(logloss) and SE(logloss)\n",
    "    return np.mean(loglosses),np.std(loglosses,ddof = 1)/np.sqrt(nruns)"
   ]
  },
  {
   "cell_type": "markdown",
   "metadata": {},
   "source": [
    "# Tuning paramters with grid search"
   ]
  },
  {
   "cell_type": "code",
   "execution_count": 53,
   "metadata": {},
   "outputs": [],
   "source": [
    "def gd_search(X,y):\n",
    "    xgb_clf = xgboost.XGBClassifier(booster='dart',tree_method='hist',n_jobs=-1,objective='binary:logistic')\n",
    "    param=dict(n_estimators=[600,700,800],\n",
    "               max_depth=[6,7,8,10],min_child_weight=[3,4,5],\n",
    "               subsample=[0.7,0.8],learning_rate=[0.001,0.002,0.003],\n",
    "               scale_pos_weight=[9])\n",
    "    \n",
    "    gd_clf = GridSearchCV(estimator=xgb_clf, cv=pds, param_grid=param, \n",
    "                                n_jobs=-1,scoring=f2_score, verbose=10)\n",
    "    gd_clf.fit(X,y)\n",
    "    best_param=gd_clf.best_params_\n",
    "    cv_results=pd.DataFrame(gd_clf.cv_results_)\n",
    "    return gd_clf,best_param,cv_results"
   ]
  },
  {
   "cell_type": "code",
   "execution_count": null,
   "metadata": {},
   "outputs": [
    {
     "name": "stdout",
     "output_type": "stream",
     "text": [
      "Fitting 1 folds for each of 216 candidates, totalling 216 fits\n"
     ]
    },
    {
     "name": "stderr",
     "output_type": "stream",
     "text": [
      "[Parallel(n_jobs=-1)]: Using backend LokyBackend with 48 concurrent workers.\n"
     ]
    }
   ],
   "source": [
    "clf,param,cv_results=gd_search(X,y)"
   ]
  },
  {
   "cell_type": "code",
   "execution_count": 28,
   "metadata": {},
   "outputs": [
    {
     "data": {
      "text/plain": [
       "{'learning_rate': 0.001,\n",
       " 'max_depth': 5,\n",
       " 'min_child_weight': 5,\n",
       " 'n_estimators': 800,\n",
       " 'scale_pos_weight': 9,\n",
       " 'subsample': 0.7}"
      ]
     },
     "execution_count": 28,
     "metadata": {},
     "output_type": "execute_result"
    }
   ],
   "source": [
    "param"
   ]
  },
  {
   "cell_type": "code",
   "execution_count": 26,
   "metadata": {},
   "outputs": [
    {
     "name": "stdout",
     "output_type": "stream",
     "text": [
      "The Validation Fbeta score is 0.45466\n"
     ]
    }
   ],
   "source": [
    "auc=roc_auc_score(y_val,clf.predict_proba(X_val)[:,1])\n",
    "f1=f1_score(y_val,clf.predict(X_val))\n",
    "f2=fbeta_score(y_val,clf.predict(X_val), beta=2)\n",
    "print('The Validation Fbeta score is {}'.format('%.5f'%f2))"
   ]
  },
  {
   "cell_type": "markdown",
   "metadata": {},
   "source": [
    "# Best model on testing data"
   ]
  },
  {
   "cell_type": "code",
   "execution_count": 27,
   "metadata": {},
   "outputs": [
    {
     "name": "stdout",
     "output_type": "stream",
     "text": [
      "The test AUC score is 0.75597\n",
      "The test Fbeta score is 0.43949\n"
     ]
    }
   ],
   "source": [
    "auc=roc_auc_score(y_test,clf.predict_proba(X_test)[:,1])\n",
    "f1=f1_score(y_test,clf.predict(X_test))\n",
    "f2=fbeta_score(y_test,clf.predict(X_test), beta=2)\n",
    "print('The testAUC score is {}'.format('%.5f'%auc))\n",
    "print('The test f2 score is {}'.format('%.5f'%f2))"
   ]
  },
  {
   "cell_type": "code",
   "execution_count": 36,
   "metadata": {},
   "outputs": [
    {
     "data": {
      "text/plain": [
       "<matplotlib.legend.Legend at 0x7f4372e24280>"
      ]
     },
     "execution_count": 36,
     "metadata": {},
     "output_type": "execute_result"
    },
    {
     "data": {
      "image/png": "[encoded data removed]",
      "text/plain": [
       "<Figure size 432x288 with 1 Axes>"
      ]
     },
     "metadata": {
      "needs_background": "light"
     },
     "output_type": "display_data"
    }
   ],
   "source": [
    "fpr, tpr, thresholds = roc_curve(y_test,clf.predict_proba(X_test)[:,1])\n",
    "#roc_auc = auc(fpr,tpr)\n",
    "c = (np.random.rand(), np.random.rand(), np.random.rand())\n",
    "plt.plot(fpr, tpr, color = c, label =  ' (AUC = %0.5f)' % auc)\n",
    "plt.xlabel('FPR')\n",
    "plt.ylabel('TPR')\n",
    "plt.title('AUC Curve')\n",
    "plt.legend()"
   ]
  },
  {
   "cell_type": "code",
   "execution_count": 14,
   "metadata": {},
   "outputs": [
    {
     "data": {
      "text/plain": [
       "Text(0.5, 1.0, 'Mean Logloss and Confidence Interval')"
      ]
     },
     "execution_count": 14,
     "metadata": {},
     "output_type": "execute_result"
    },
    {
     "data": {
      "image/png": "[encoded data removed]",
      "text/plain": [
       "<Figure size 576x576 with 1 Axes>"
      ]
     },
     "metadata": {
      "needs_background": "light"
     },
     "output_type": "display_data"
    }
   ],
   "source": [
    "plt.figure(figsize = (8,8))\n",
    "plt.plot(np.log2(linspace),xgb_mean,'b',label = 'xgb:mean(Logloss)')\n",
    "plt.plot(np.log2(linspace),xgb_mean-2*xgb_se,'r+',label = 'xgb:mean(Logloss)-2stderr(Logloss)')\n",
    "plt.plot(np.log2(linspace),xgb_mean+2*xgb_se,'r--',label = 'xgb:mean(Logloss)+2stderr(Logloss)')\n",
    "\n",
    "plt.legend()\n",
    "plt.xlabel('Log2_Samplesize')\n",
    "plt.ylabel('Logloss')\n",
    "plt.title('Mean Logloss and Confidence Interval')"
   ]
  }
 ],
 "metadata": {
  "kernelspec": {
   "display_name": "Python 3",
   "language": "python",
   "name": "python3"
  },
  "language_info": {
   "codemirror_mode": {
    "name": "ipython",
    "version": 3
   },
   "file_extension": ".py",
   "mimetype": "text/x-python",
   "name": "python",
   "nbconvert_exporter": "python",
   "pygments_lexer": "ipython3",
   "version": "3.8.3"
  }
 },
 "nbformat": 4,
 "nbformat_minor": 4
}
